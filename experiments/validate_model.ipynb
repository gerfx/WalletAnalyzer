{
 "cells": [
  {
   "cell_type": "markdown",
   "id": "76bde22c",
   "metadata": {},
   "source": [
    "* Использую данные по airdrop EIGEN отсюда https://dune.com/p2p_org/eigenlayer-airdrops\n",
    "* Так как есть информация только о кошельках получивших airdrop то модель должна предсказать 0 (не sybil)\n",
    "* Собираем фичи с помощью Moralis API"
   ]
  },
  {
   "cell_type": "code",
   "execution_count": 62,
   "id": "dda30cc8",
   "metadata": {},
   "outputs": [],
   "source": [
    "import json\n",
    "\n",
    "from tqdm.auto import tqdm\n",
    "import pandas as pd\n",
    "\n",
    "from sklearn.metrics import accuracy_score, classification_report"
   ]
  },
  {
   "cell_type": "code",
   "execution_count": 63,
   "id": "abfd9d0a",
   "metadata": {},
   "outputs": [],
   "source": [
    "with open('data.txt') as f:\n",
    "    valid_wallets = json.load(f)"
   ]
  },
  {
   "cell_type": "code",
   "execution_count": 64,
   "id": "9015e412",
   "metadata": {},
   "outputs": [],
   "source": [
    "import sys\n",
    "sys.path.append('..')\n",
    "\n",
    "from src.moralis_extractor import MoralisClient\n",
    "from src.feature_extractor import calculate_features_moralis"
   ]
  },
  {
   "cell_type": "code",
   "execution_count": null,
   "id": "5a4981d3",
   "metadata": {},
   "outputs": [],
   "source": [
    "import yaml\n",
    "\n",
    "with open('../config/config.yaml', 'r') as file:\n",
    "    config = yaml.safe_load(file)\n",
    "\n",
    "client = MoralisClient(config['moralis_api_key'], timeout=100)"
   ]
  },
  {
   "cell_type": "code",
   "execution_count": null,
   "id": "96331b61",
   "metadata": {},
   "outputs": [],
   "source": [
    "all_features = {}"
   ]
  },
  {
   "cell_type": "code",
   "execution_count": 12,
   "id": "d3005612",
   "metadata": {},
   "outputs": [
    {
     "name": "stderr",
     "output_type": "stream",
     "text": [
      " 54%|█████▍    | 163/301 [00:02<00:01, 72.42it/s]"
     ]
    },
    {
     "name": "stdout",
     "output_type": "stream",
     "text": [
      "Error fetching data for wallet 0x7c829a56e5a0c6625bcc39b774e18e745a345d67: 'NoneType' object has no attribute 'lower'\n"
     ]
    },
    {
     "name": "stderr",
     "output_type": "stream",
     "text": [
      " 58%|█████▊    | 176/301 [00:02<00:01, 70.39it/s]"
     ]
    },
    {
     "name": "stdout",
     "output_type": "stream",
     "text": [
      "Error fetching data for wallet 0xa089.eth: 400 Client Error: Bad Request for url: https://deep-index.moralis.io/api/v2/0xa089.eth?chain=eth\n"
     ]
    },
    {
     "name": "stderr",
     "output_type": "stream",
     "text": [
      "100%|██████████| 301/301 [04:20<00:00,  1.15it/s]\n"
     ]
    }
   ],
   "source": [
    "for wallet in tqdm(valid_wallets):\n",
    "    if wallet in all_features:\n",
    "        continue\n",
    "    try:\n",
    "        normal_txs = client.fetch_normal_transactions(wallet)\n",
    "        token_txs = client.fetch_token_transfers(wallet)\n",
    "        features = calculate_features_moralis(normal_txs, token_txs, wallet)\n",
    "    except Exception as e:\n",
    "        print(f\"Error fetching data for wallet {wallet}: {e}\")\n",
    "        continue\n",
    "    all_features[wallet] = features"
   ]
  },
  {
   "cell_type": "code",
   "execution_count": 13,
   "id": "4adf724e",
   "metadata": {},
   "outputs": [],
   "source": [
    "with open('features.json', 'w') as f:\n",
    "    json.dump(all_features, f, indent=4)"
   ]
  },
  {
   "cell_type": "code",
   "execution_count": 14,
   "id": "4a1670df",
   "metadata": {},
   "outputs": [
    {
     "data": {
      "text/plain": [
       "299"
      ]
     },
     "execution_count": 14,
     "metadata": {},
     "output_type": "execute_result"
    }
   ],
   "source": [
    "len(all_features)"
   ]
  },
  {
   "cell_type": "code",
   "execution_count": 65,
   "id": "0a3366b5",
   "metadata": {},
   "outputs": [],
   "source": [
    "df = pd.DataFrame.from_dict(all_features, orient='index')\n",
    "target = [0] * len(df)"
   ]
  },
  {
   "cell_type": "code",
   "execution_count": 66,
   "id": "ba1c16a3",
   "metadata": {},
   "outputs": [],
   "source": [
    "import pickle\n",
    "\n",
    "with open('best_model.pkl', 'rb') as f:\n",
    "    model = pickle.load(f)"
   ]
  },
  {
   "cell_type": "code",
   "execution_count": 67,
   "id": "3e5226c2",
   "metadata": {},
   "outputs": [
    {
     "data": {
      "text/plain": [
       "sklearn.ensemble._forest.RandomForestClassifier"
      ]
     },
     "execution_count": 67,
     "metadata": {},
     "output_type": "execute_result"
    }
   ],
   "source": [
    "type(model)"
   ]
  },
  {
   "cell_type": "code",
   "execution_count": 68,
   "id": "328aa95e",
   "metadata": {},
   "outputs": [
    {
     "name": "stdout",
     "output_type": "stream",
     "text": [
      "Accuracy: 0.7357859531772575\n",
      "              precision    recall  f1-score   support\n",
      "\n",
      "           0       1.00      0.74      0.85       299\n",
      "           1       0.00      0.00      0.00         0\n",
      "\n",
      "    accuracy                           0.74       299\n",
      "   macro avg       0.50      0.37      0.42       299\n",
      "weighted avg       1.00      0.74      0.85       299\n",
      "\n"
     ]
    }
   ],
   "source": [
    "y_pred = model.predict(df)\n",
    "y_prob = model.predict_proba(df)[:, 1]\n",
    "\n",
    "print(\"Accuracy:\", accuracy_score(target, y_pred))\n",
    "print(classification_report(target, y_pred, zero_division=0))"
   ]
  }
 ],
 "metadata": {
  "kernelspec": {
   "display_name": "venv",
   "language": "python",
   "name": "python3"
  },
  "language_info": {
   "codemirror_mode": {
    "name": "ipython",
    "version": 3
   },
   "file_extension": ".py",
   "mimetype": "text/x-python",
   "name": "python",
   "nbconvert_exporter": "python",
   "pygments_lexer": "ipython3",
   "version": "3.12.3"
  }
 },
 "nbformat": 4,
 "nbformat_minor": 5
}
